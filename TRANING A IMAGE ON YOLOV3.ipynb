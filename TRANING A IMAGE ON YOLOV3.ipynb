{
  "nbformat": 4,
  "nbformat_minor": 0,
  "metadata": {
    "colab": {
      "name": "Untitled0.ipynb",
      "provenance": [],
      "authorship_tag": "ABX9TyNEoU+2SByh6edsP5Oc1C/q",
      "include_colab_link": true
    },
    "kernelspec": {
      "name": "python3",
      "display_name": "Python 3"
    },
    "language_info": {
      "name": "python"
    },
    "accelerator": "GPU"
  },
  "cells": [
    {
      "cell_type": "markdown",
      "metadata": {
        "id": "view-in-github",
        "colab_type": "text"
      },
      "source": [
        "<a href=\"https://colab.research.google.com/github/BLURFACEX/BLURFACEX/blob/main/TRANING%20A%20IMAGE%20ON%20YOLOV3.ipynb\" target=\"_parent\"><img src=\"https://colab.research.google.com/assets/colab-badge.svg\" alt=\"Open In Colab\"/></a>"
      ]
    },
    {
      "cell_type": "code",
      "metadata": {
        "id": "Fsxthqk4wEep"
      },
      "source": [
        "from google.colab import drive\n",
        "drive.mount('/content/drive')\n",
        "\n",
        "!nvidia-smi"
      ],
      "execution_count": null,
      "outputs": []
    },
    {
      "cell_type": "code",
      "metadata": {
        "id": "cs_tJ7ZQxsoD"
      },
      "source": [
        "%cd '/content/drive/My Drive'\n",
        "!git clone https://github.com/AlexeyAB/darknet\n",
        "%cd darknet \n",
        "!wget http://pjreddie.com/media/files/darknet53.conv.74\n",
        "!sed -i 's/OPENCV=0/OPENCV=1/' Makefile\n",
        "!sed -i 's/GPU=0/GPU=1/' Makefile\n",
        "!sed -i 's/CUDNN=0/CUDNN=1/' Makefile\n",
        "!make\n"
      ],
      "execution_count": null,
      "outputs": []
    },
    {
      "cell_type": "code",
      "metadata": {
        "colab": {
          "base_uri": "https://localhost:8080/"
        },
        "id": "H3bhF7jM9BiR",
        "outputId": "40f7af23-72d5-4480-abd3-9c8c9e579919"
      },
      "source": [
        "%cd '/content/drive/My Drive/darknet'\n",
        "\n",
        "!unzip -uq custom/custom_data.zip -d data\n",
        "\n",
        "!cp custom/classes.names data\n",
        "!cp custom/obj.data data\n",
        "!cp custom/train.txt data\n",
        "!cp custom/test.txt data \n",
        "\n",
        "!cp custom/yolov3_custom_train.cfg cfg\n",
        "!cp custom/yolov3_custom_test.cfg cfg"
      ],
      "execution_count": null,
      "outputs": [
        {
          "output_type": "stream",
          "name": "stdout",
          "text": [
            "/content/drive/My Drive/darknet\n"
          ]
        }
      ]
    },
    {
      "cell_type": "code",
      "metadata": {
        "id": "JVaCELusA_8M"
      },
      "source": [
        "%cd '/content/drive/My Drive/darknet'\n",
        "!./darknet detector train data/obj.data cfg/yolov3_custom_train.cfg darknet53.conv.74 -dont_show"
      ],
      "execution_count": null,
      "outputs": []
    },
    {
      "cell_type": "code",
      "metadata": {
        "id": "wjuuxXriwQwf"
      },
      "source": [
        "%cd '/content/drive/My Drive/darknet'\n",
        "!./darknet detector train data/obj.data cfg/yolov3_custom_train.cfg backup/yolov3_custom_train_last.weights -dont_show"
      ],
      "execution_count": null,
      "outputs": []
    }
  ]
}