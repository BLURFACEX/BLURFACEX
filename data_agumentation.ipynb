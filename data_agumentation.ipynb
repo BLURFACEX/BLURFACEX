{
  "nbformat": 4,
  "nbformat_minor": 0,
  "metadata": {
    "colab": {
      "name": "data agumentation.ipynb",
      "provenance": [],
      "authorship_tag": "ABX9TyMd3h1gBpD+yOzsuk90pohV",
      "include_colab_link": true
    },
    "kernelspec": {
      "name": "python3",
      "display_name": "Python 3"
    },
    "language_info": {
      "name": "python"
    }
  },
  "cells": [
    {
      "cell_type": "markdown",
      "metadata": {
        "id": "view-in-github",
        "colab_type": "text"
      },
      "source": [
        "<a href=\"https://colab.research.google.com/github/BLURFACEX/BLURFACEX/blob/main/data_agumentation.ipynb\" target=\"_parent\"><img src=\"https://colab.research.google.com/assets/colab-badge.svg\" alt=\"Open In Colab\"/></a>"
      ]
    },
    {
      "cell_type": "code",
      "metadata": {
        "colab": {
          "base_uri": "https://localhost:8080/"
        },
        "id": "8JgD0nAhYEQk",
        "outputId": "e0f152a8-6362-494a-ebc2-97ec4a744b14"
      },
      "source": [
        "from google.colab import drive\n",
        "drive.mount('/content/drive')\n"
      ],
      "execution_count": 1,
      "outputs": [
        {
          "output_type": "stream",
          "name": "stdout",
          "text": [
            "Mounted at /content/drive\n"
          ]
        }
      ]
    },
    {
      "cell_type": "code",
      "metadata": {
        "colab": {
          "base_uri": "https://localhost:8080/"
        },
        "id": "CviE5Cvu_8nI",
        "outputId": "36f082f7-7835-443c-c530-0038547790b7"
      },
      "source": [
        " %cd '/content/drive/My Drive'\n",
        "# Importing necessary functions\n",
        "from keras.preprocessing.image import ImageDataGenerator, array_to_img, img_to_array, load_img\n",
        "\n",
        "# Initialising the ImageDataGenerator class.\n",
        "# We will pass in the augmentation parameters in the constructor.\n",
        "datagen = ImageDataGenerator(\n",
        "        rotation_range = 40,\n",
        "        shear_range = 0.2,\n",
        "        zoom_range = 0.2,\n",
        "        horizontal_flip = True,\n",
        "        brightness_range = (0.5, 1.5))\n",
        "    \n",
        "# Loading a sample image\n",
        "img = load_img('/content/drive/MyDrive/nutela/ia_300000136.png')\n",
        "# Converting the input sample image to an array\n",
        "x = img_to_array(img)\n",
        "# Reshaping the input image\n",
        "x = x.reshape((1, ) + x.shape)\n",
        "\n",
        "# Generating and saving 5 augmented samples\n",
        "# using the above defined parameters.\n",
        "i = 0\n",
        "for batch in datagen.flow(x, batch_size = 1,\n",
        "                        save_to_dir ='new2',\n",
        "                        save_prefix ='image', save_format ='jpg'):\n",
        "    i += 1\n",
        "    if i > 5:\n",
        "        break"
      ],
      "execution_count": 89,
      "outputs": [
        {
          "output_type": "stream",
          "name": "stdout",
          "text": [
            "/content/drive/My Drive\n"
          ]
        }
      ]
    }
  ]
}